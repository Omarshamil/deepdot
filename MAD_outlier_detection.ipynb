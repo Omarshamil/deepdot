{
  "nbformat": 4,
  "nbformat_minor": 0,
  "metadata": {
    "colab": {
      "name": "mad_outlier_detection.ipynb",
      "provenance": [],
      "collapsed_sections": []
    },
    "kernelspec": {
      "name": "python3",
      "display_name": "Python 3"
    }
  },
  "cells": [
    {
      "cell_type": "markdown",
      "metadata": {
        "id": "R9GSFNZsRbeN",
        "colab_type": "text"
      },
      "source": [
        "# Outlier Detection for Calculated Triggers\n",
        "\n",
        "As seen previously, we obtained the reversed engineered triggers for each of the target labels, and their _L1_ norms. Here, we identify the triggers (and their associated labels) that show up as outliers with smaller _L1_ norms in the distribution.\n",
        "\n",
        "## About _L1_ Norm\n",
        "\n",
        "_L1_ Norm is the sum of the magnitudes of the vectors in a space. It is the most natural way of measure distance between vectors, that is the sum of absolute difference of the components of the vectors <sub><sup>[1]</sup></sub>.\n",
        "\n",
        "Having, for example, the vector $X = [3,4]$:\n",
        "\n",
        "![L1 Norm Graph](https://miro.medium.com/max/300/0*1kmU2e3eDsPGJjvR.jpg)\n",
        "\n",
        "<small>Fig 1: L1 Norm</small>\n",
        "\n",
        "The L1 norm is calculated as\n",
        "\n",
        "$\\left\\lVert X\\right\\rVert _1 = |3| + |4| = 7$"
      ]
    },
    {
      "cell_type": "markdown",
      "metadata": {
        "id": "Cr5nxFbmNIGB",
        "colab_type": "text"
      },
      "source": [
        "Necessary Imports"
      ]
    },
    {
      "cell_type": "code",
      "metadata": {
        "id": "IzNxCOqqC0TW",
        "colab_type": "code",
        "colab": {}
      },
      "source": [
        "import os\n",
        "import sys\n",
        "import time"
      ],
      "execution_count": 0,
      "outputs": []
    },
    {
      "cell_type": "code",
      "metadata": {
        "id": "Amo68oMpC1pz",
        "colab_type": "code",
        "outputId": "b4e00d70-9f8e-4aea-d996-e212878c7dc0",
        "colab": {
          "base_uri": "https://localhost:8080/",
          "height": 34
        }
      },
      "source": [
        "%tensorflow_version 1.x\n",
        "import numpy as np\n",
        "from keras.preprocessing import image\n",
        "import matplotlib.pyplot as plt"
      ],
      "execution_count": 3,
      "outputs": [
        {
          "output_type": "stream",
          "text": [
            "Using TensorFlow backend.\n"
          ],
          "name": "stderr"
        }
      ]
    },
    {
      "cell_type": "code",
      "metadata": {
        "id": "KKm_rTgdDDAs",
        "colab_type": "code",
        "outputId": "3dbbf809-57e6-4a69-ff85-e4512c3f132d",
        "colab": {
          "base_uri": "https://localhost:8080/",
          "height": 121
        }
      },
      "source": [
        "from google.colab import drive\n",
        "drive.mount('/content/drive')\n",
        "base_path = \"/content/drive/My Drive/Sem 7/DeepDOT/detection/\""
      ],
      "execution_count": 4,
      "outputs": [
        {
          "output_type": "stream",
          "text": [
            "Go to this URL in a browser: https://accounts.google.com/o/oauth2/auth?client_id=947318989803-6bn6qk8qdgf4n4g3pfee6491hc0brc4i.apps.googleusercontent.com&redirect_uri=urn%3Aietf%3Awg%3Aoauth%3A2.0%3Aoob&scope=email%20https%3A%2F%2Fwww.googleapis.com%2Fauth%2Fdocs.test%20https%3A%2F%2Fwww.googleapis.com%2Fauth%2Fdrive%20https%3A%2F%2Fwww.googleapis.com%2Fauth%2Fdrive.photos.readonly%20https%3A%2F%2Fwww.googleapis.com%2Fauth%2Fpeopleapi.readonly&response_type=code\n",
            "\n",
            "Enter your authorization code:\n",
            "··········\n",
            "Mounted at /content/drive\n"
          ],
          "name": "stdout"
        }
      ]
    },
    {
      "cell_type": "markdown",
      "metadata": {
        "id": "IhWMElZWNrLU",
        "colab_type": "text"
      },
      "source": [
        "## Part 1: Define Parameters\n",
        "\n",
        "We define a few parameters that will be used in the outlier detection process. These include the input size and number of classes in the models (also the number of generated triggers).\n",
        "\n",
        "The comment after each line provides more details about the parameter."
      ]
    },
    {
      "cell_type": "code",
      "metadata": {
        "id": "hfuqY1KfC6wd",
        "colab_type": "code",
        "colab": {}
      },
      "source": [
        "##############################\n",
        "#        PARAMETERS          #\n",
        "##############################\n",
        "\n",
        "RESULT_DIR = base_path + 'results_gpu'  # directory for storing results\n",
        "IMG_FILENAME_TEMPLATE = 'gtsrb_visualize_%s_label_%d.png'  # image filename template for visualization results\n",
        "\n",
        "# input size\n",
        "IMG_ROWS = 32\n",
        "IMG_COLS = 32\n",
        "IMG_COLOR = 3\n",
        "INPUT_SHAPE = (IMG_ROWS, IMG_COLS, IMG_COLOR)\n",
        "\n",
        "NUM_CLASSES = 43  # total number of classes in the model\n",
        "\n",
        "##############################\n",
        "#      END PARAMETERS        #\n",
        "##############################"
      ],
      "execution_count": 0,
      "outputs": []
    },
    {
      "cell_type": "markdown",
      "metadata": {
        "id": "THR0Gdr7N_Uu",
        "colab_type": "text"
      },
      "source": [
        "## Part 2: Outlier Detection\n",
        "\n",
        "To detect outliers, we use a simple technique based on Median Absolute Deviation, which is known to be resilient in the presence of multiple outliers <small>[2]</small>.\n",
        "\n",
        "We first calculate the absolute deviation between all data points and the median. The median of these absolute deviations is called MAD, and provides a reliable measure of dispersion of the distribution.\n",
        "\n",
        "The anomaly index of a data point is then defined as the absolute deviation of the data point, divided by MAD.\n",
        "\n",
        "Any data point with anomaly index larger than $2$ has $> 95\\%$ probability of being an outlier. We mark any label with anomaly index larger than $2$ as an outlier and infected, and only focus on outliers at the small end of the distribution <small>[3]</small>."
      ]
    },
    {
      "cell_type": "code",
      "metadata": {
        "id": "9olDjx1DDBbS",
        "colab_type": "code",
        "colab": {}
      },
      "source": [
        "def outlier_detection(l1_norm_list, idx_mapping):\n",
        "\n",
        "    consistency_constant = 1.4826  # if normal distribution\n",
        "    median = np.median(l1_norm_list)\n",
        "    mad = consistency_constant * np.median(np.abs(l1_norm_list - median))\n",
        "    min_mad = np.abs(np.min(l1_norm_list) - median) / mad\n",
        "\n",
        "    print('median: %f, MAD: %f' % (median, mad))\n",
        "    print('anomaly index: %f' % min_mad)\n",
        "\n",
        "    flag_list = []\n",
        "    for y_label in idx_mapping:\n",
        "        if l1_norm_list[idx_mapping[y_label]] > median:\n",
        "            continue\n",
        "        if np.abs(l1_norm_list[idx_mapping[y_label]] - median) / mad > 2:\n",
        "            flag_list.append((y_label, l1_norm_list[idx_mapping[y_label]]))\n",
        "\n",
        "    if len(flag_list) > 0:\n",
        "        flag_list = sorted(flag_list, key=lambda x: x[1])\n",
        "\n",
        "    print('flagged label list: %s' %\n",
        "          ', '.join(['%d: %2f' % (y_label, l_norm)\n",
        "                     for y_label, l_norm in flag_list]))\n",
        "\n",
        "    pass"
      ],
      "execution_count": 0,
      "outputs": []
    },
    {
      "cell_type": "code",
      "metadata": {
        "id": "ce7SJR1BDa9H",
        "colab_type": "code",
        "colab": {}
      },
      "source": [
        "def analyze_pattern_norm_dist():\n",
        "\n",
        "    mask_flatten = []\n",
        "    idx_mapping = {}\n",
        "\n",
        "    for y_label in range(NUM_CLASSES):\n",
        "        mask_filename = IMG_FILENAME_TEMPLATE % ('mask', y_label)\n",
        "        if os.path.isfile('%s/%s' % (RESULT_DIR, mask_filename)):\n",
        "            img = image.load_img(\n",
        "                '%s/%s' % (RESULT_DIR, mask_filename),\n",
        "                color_mode='grayscale',\n",
        "                target_size=INPUT_SHAPE)\n",
        "            mask = image.img_to_array(img)\n",
        "            mask /= 255\n",
        "            mask = mask[:, :, 0]\n",
        "\n",
        "            mask_flatten.append(mask.flatten())\n",
        "\n",
        "            idx_mapping[y_label] = len(mask_flatten) - 1\n",
        "\n",
        "    l1_norm_list = [np.sum(np.abs(m)) for m in mask_flatten]\n",
        "\n",
        "    print('%d labels found' % len(l1_norm_list))\n",
        "\n",
        "    outlier_detection(l1_norm_list, idx_mapping)\n",
        "\n",
        "    return l1_norm_list"
      ],
      "execution_count": 0,
      "outputs": []
    },
    {
      "cell_type": "markdown",
      "metadata": {
        "id": "7O1TsJv7R6YC",
        "colab_type": "text"
      },
      "source": [
        "## And the outlier is...\n",
        "\n",
        "We call `main` which performs the calculations on our previously generated triggers, and tells us if we have an outlier."
      ]
    },
    {
      "cell_type": "code",
      "metadata": {
        "id": "qFpauYeLDdE_",
        "colab_type": "code",
        "outputId": "12f594a7-9e63-4b95-e13d-c1894036db10",
        "colab": {
          "base_uri": "https://localhost:8080/",
          "height": 118
        }
      },
      "source": [
        "print('%s start' % sys.argv[0])\n",
        "\n",
        "start_time = time.time()\n",
        "l1_norm_list = analyze_pattern_norm_dist()\n",
        "elapsed_time = time.time() - start_time\n",
        "print('elapsed time %.2f s' % elapsed_time)"
      ],
      "execution_count": 8,
      "outputs": [
        {
          "output_type": "stream",
          "text": [
            "/usr/local/lib/python3.6/dist-packages/ipykernel_launcher.py start\n",
            "43 labels found\n",
            "median: 64.549026, MAD: 17.610965\n",
            "anomaly index: 2.683043\n",
            "flagged label list: 33: 17.298040\n",
            "elapsed time 17.30 s\n"
          ],
          "name": "stdout"
        }
      ]
    },
    {
      "cell_type": "markdown",
      "metadata": {
        "id": "C7U6EJq2yPvj",
        "colab_type": "text"
      },
      "source": [
        "We plot the calculated _L1_ Norms of each trigger. It is clearly seen that _label 33_ has a comparitively very small trigger size."
      ]
    },
    {
      "cell_type": "code",
      "metadata": {
        "id": "mTQQwRORUQGY",
        "colab_type": "code",
        "colab": {
          "base_uri": "https://localhost:8080/",
          "height": 299
        },
        "outputId": "5dbd0a3e-e448-49d8-e176-9dd8262d7170"
      },
      "source": [
        "plt.style.use('ggplot')\n",
        "fig, ax = plt.subplots(figsize=(7,4))\n",
        "plt.plot(np.array(range(1,44)), l1_norm_list, marker='o')\n",
        "ax.set_xlabel('Output Class')\n",
        "ax.set_ylabel('Trigger L1 Norm')\n",
        "ax.annotate(\"Outlier\", (35, 15))\n",
        "plt.show()\n",
        "print(\"Fig 2: Output class vs. L1 Norm\")"
      ],
      "execution_count": 32,
      "outputs": [
        {
          "output_type": "display_data",
          "data": {
            "image/png": "[encoded data removed]",
            "text/plain": [
              "<Figure size 504x288 with 1 Axes>"
            ]
          },
          "metadata": {
            "tags": []
          }
        },
        {
          "output_type": "stream",
          "text": [
            "Fig 2: Output class vs. L1 Norm\n"
          ],
          "name": "stdout"
        }
      ]
    },
    {
      "cell_type": "markdown",
      "metadata": {
        "id": "2r4ZiQCCyi8R",
        "colab_type": "text"
      },
      "source": [
        "### Results\n",
        "\n",
        "Finally, our approach can also determine which labels are infected. Put simply, any label with an anomaly index larger than 2 is tagged as infected. In most models ,i.e. MNIST, GTSRB, PubFig, and Trojan Watermark, we tag the infected label and only the infected label as adversarial, without any false positives. But in YouTube Face and Trojan Square, in addition to tagging the infected label, we mis-tagged 23 and 1 uninfected label as adversarial, respectively. In practice, this is not a problematic scenario. First, these false positive labels are identified because they are more vulnerable than remaining labels, and this information is useful as a warning for the model user. Second, in later experiments, we present mitigation techniques that will patch all vulnerable labels without affecting model’s classification performance.\n",
        "\n",
        "![results](https://i.imgur.com/FrqMJ2E.png)"
      ]
    },
    {
      "cell_type": "markdown",
      "metadata": {
        "id": "wt87g7u407T4",
        "colab_type": "text"
      },
      "source": [
        "### References\n",
        "\n",
        "<small>[1] Sara Iris Garcia, Medium  \n",
        "[2]:  F. R. Hampel, “The influence curve and its role in robust estimation,”\n",
        "Journal of the American Statistical Association, vol. 69, no. 346, pp.\n",
        "383–393, 1974.  \n",
        "[3]: Wang, Bolun, et al. \"Neural cleanse: Identifying and mitigating backdoor attacks in neural networks.\" Neural Cleanse: Identifying and Mitigating Backdoor Attacks in Neural Networks (2019): 0.</small>"
      ]
    }
  ]
}